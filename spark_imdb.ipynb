{
  "nbformat": 4,
  "nbformat_minor": 0,
  "metadata": {
    "colab": {
      "provenance": [],
      "authorship_tag": "ABX9TyORVdX6c4L6eovCRn6c1JGJ",
      "include_colab_link": true
    },
    "kernelspec": {
      "name": "python3",
      "display_name": "Python 3"
    },
    "language_info": {
      "name": "python"
    }
  },
  "cells": [
    {
      "cell_type": "markdown",
      "metadata": {
        "id": "view-in-github",
        "colab_type": "text"
      },
      "source": [
        "<a href=\"https://colab.research.google.com/github/Cayo-Cezar/spark-imdb/blob/main/spark_imdb.ipynb\" target=\"_parent\"><img src=\"https://colab.research.google.com/assets/colab-badge.svg\" alt=\"Open In Colab\"/></a>"
      ]
    },
    {
      "cell_type": "code",
      "source": [
        "\n",
        "!apt-get update -qq\n",
        "!apt-get install -y openjdk-8-jdk-headless -qq > /dev/null\n",
        "\n",
        "\n",
        "!wget -q https://archive.apache.org/dist/spark/spark-3.4.1/spark-3.4.1-bin-hadoop3.tgz\n",
        "\n",
        "!ls -l spark-3.4.1-bin-hadoop3.tgz\n",
        "!tar xf spark-3.4.1-bin-hadoop3.tgz\n",
        "\n",
        "!pip install -q pyspark\n",
        "\n",
        "import os\n",
        "os.environ[\"JAVA_HOME\"] = \"/usr/lib/jvm/java-8-openjdk-amd64\"\n",
        "os.environ[\"SPARK_HOME\"] = \"/content/spark-3.4.1-bin-hadoop3\"\n"
      ],
      "metadata": {
        "colab": {
          "base_uri": "https://localhost:8080/"
        },
        "id": "cpEm0nq6hywa",
        "outputId": "66b350a7-a69a-4175-c713-c59b1792dc24"
      },
      "execution_count": null,
      "outputs": [
        {
          "output_type": "stream",
          "name": "stdout",
          "text": [
            "W: Skipping acquire of configured file 'main/source/Sources' as repository 'https://r2u.stat.illinois.edu/ubuntu jammy InRelease' does not seem to provide it (sources.list entry misspelt?)\n",
            "-rw-r--r-- 1 root root 388341449 Jun 19  2023 spark-3.4.1-bin-hadoop3.tgz\n"
          ]
        }
      ]
    },
    {
      "cell_type": "code",
      "source": [
        "from pyspark.sql import SparkSession\n",
        "\n",
        "spark = SparkSession.builder.master(\"local[*]\").appName(\"Teste Spark\").getOrCreate()\n",
        "\n",
        "spark\n"
      ],
      "metadata": {
        "colab": {
          "base_uri": "https://localhost:8080/",
          "height": 219
        },
        "id": "a61_OJH7iZGX",
        "outputId": "1ecb6260-0f27-4b39-de70-d2bf878609ef"
      },
      "execution_count": null,
      "outputs": [
        {
          "output_type": "execute_result",
          "data": {
            "text/plain": [
              "<pyspark.sql.session.SparkSession at 0x7abcf1093be0>"
            ],
            "text/html": [
              "\n",
              "            <div>\n",
              "                <p><b>SparkSession - in-memory</b></p>\n",
              "                \n",
              "        <div>\n",
              "            <p><b>SparkContext</b></p>\n",
              "\n",
              "            <p><a href=\"http://cab67540363d:4040\">Spark UI</a></p>\n",
              "\n",
              "            <dl>\n",
              "              <dt>Version</dt>\n",
              "                <dd><code>v3.4.1</code></dd>\n",
              "              <dt>Master</dt>\n",
              "                <dd><code>local[*]</code></dd>\n",
              "              <dt>AppName</dt>\n",
              "                <dd><code>Teste Spark</code></dd>\n",
              "            </dl>\n",
              "        </div>\n",
              "        \n",
              "            </div>\n",
              "        "
            ]
          },
          "metadata": {},
          "execution_count": 4
        }
      ]
    },
    {
      "cell_type": "code",
      "source": [
        "from google.colab import files\n",
        "arquivo = files.upload()"
      ],
      "metadata": {
        "colab": {
          "base_uri": "https://localhost:8080/",
          "height": 71
        },
        "id": "Gu3BlycGicqt",
        "outputId": "72e2514e-b1b1-447e-ba4e-b311a78ef5ea"
      },
      "execution_count": null,
      "outputs": [
        {
          "output_type": "display_data",
          "data": {
            "text/plain": [
              "<IPython.core.display.HTML object>"
            ],
            "text/html": [
              "\n",
              "     <input type=\"file\" id=\"files-39726d18-e863-45cb-8a5b-bb4430d6d268\" name=\"files[]\" multiple disabled\n",
              "        style=\"border:none\" />\n",
              "     <output id=\"result-39726d18-e863-45cb-8a5b-bb4430d6d268\">\n",
              "      Upload widget is only available when the cell has been executed in the\n",
              "      current browser session. Please rerun this cell to enable.\n",
              "      </output>\n",
              "      <script>// Copyright 2017 Google LLC\n",
              "//\n",
              "// Licensed under the Apache License, Version 2.0 (the \"License\");\n",
              "// you may not use this file except in compliance with the License.\n",
              "// You may obtain a copy of the License at\n",
              "//\n",
              "//      http://www.apache.org/licenses/LICENSE-2.0\n",
              "//\n",
              "// Unless required by applicable law or agreed to in writing, software\n",
              "// distributed under the License is distributed on an \"AS IS\" BASIS,\n",
              "// WITHOUT WARRANTIES OR CONDITIONS OF ANY KIND, either express or implied.\n",
              "// See the License for the specific language governing permissions and\n",
              "// limitations under the License.\n",
              "\n",
              "/**\n",
              " * @fileoverview Helpers for google.colab Python module.\n",
              " */\n",
              "(function(scope) {\n",
              "function span(text, styleAttributes = {}) {\n",
              "  const element = document.createElement('span');\n",
              "  element.textContent = text;\n",
              "  for (const key of Object.keys(styleAttributes)) {\n",
              "    element.style[key] = styleAttributes[key];\n",
              "  }\n",
              "  return element;\n",
              "}\n",
              "\n",
              "// Max number of bytes which will be uploaded at a time.\n",
              "const MAX_PAYLOAD_SIZE = 100 * 1024;\n",
              "\n",
              "function _uploadFiles(inputId, outputId) {\n",
              "  const steps = uploadFilesStep(inputId, outputId);\n",
              "  const outputElement = document.getElementById(outputId);\n",
              "  // Cache steps on the outputElement to make it available for the next call\n",
              "  // to uploadFilesContinue from Python.\n",
              "  outputElement.steps = steps;\n",
              "\n",
              "  return _uploadFilesContinue(outputId);\n",
              "}\n",
              "\n",
              "// This is roughly an async generator (not supported in the browser yet),\n",
              "// where there are multiple asynchronous steps and the Python side is going\n",
              "// to poll for completion of each step.\n",
              "// This uses a Promise to block the python side on completion of each step,\n",
              "// then passes the result of the previous step as the input to the next step.\n",
              "function _uploadFilesContinue(outputId) {\n",
              "  const outputElement = document.getElementById(outputId);\n",
              "  const steps = outputElement.steps;\n",
              "\n",
              "  const next = steps.next(outputElement.lastPromiseValue);\n",
              "  return Promise.resolve(next.value.promise).then((value) => {\n",
              "    // Cache the last promise value to make it available to the next\n",
              "    // step of the generator.\n",
              "    outputElement.lastPromiseValue = value;\n",
              "    return next.value.response;\n",
              "  });\n",
              "}\n",
              "\n",
              "/**\n",
              " * Generator function which is called between each async step of the upload\n",
              " * process.\n",
              " * @param {string} inputId Element ID of the input file picker element.\n",
              " * @param {string} outputId Element ID of the output display.\n",
              " * @return {!Iterable<!Object>} Iterable of next steps.\n",
              " */\n",
              "function* uploadFilesStep(inputId, outputId) {\n",
              "  const inputElement = document.getElementById(inputId);\n",
              "  inputElement.disabled = false;\n",
              "\n",
              "  const outputElement = document.getElementById(outputId);\n",
              "  outputElement.innerHTML = '';\n",
              "\n",
              "  const pickedPromise = new Promise((resolve) => {\n",
              "    inputElement.addEventListener('change', (e) => {\n",
              "      resolve(e.target.files);\n",
              "    });\n",
              "  });\n",
              "\n",
              "  const cancel = document.createElement('button');\n",
              "  inputElement.parentElement.appendChild(cancel);\n",
              "  cancel.textContent = 'Cancel upload';\n",
              "  const cancelPromise = new Promise((resolve) => {\n",
              "    cancel.onclick = () => {\n",
              "      resolve(null);\n",
              "    };\n",
              "  });\n",
              "\n",
              "  // Wait for the user to pick the files.\n",
              "  const files = yield {\n",
              "    promise: Promise.race([pickedPromise, cancelPromise]),\n",
              "    response: {\n",
              "      action: 'starting',\n",
              "    }\n",
              "  };\n",
              "\n",
              "  cancel.remove();\n",
              "\n",
              "  // Disable the input element since further picks are not allowed.\n",
              "  inputElement.disabled = true;\n",
              "\n",
              "  if (!files) {\n",
              "    return {\n",
              "      response: {\n",
              "        action: 'complete',\n",
              "      }\n",
              "    };\n",
              "  }\n",
              "\n",
              "  for (const file of files) {\n",
              "    const li = document.createElement('li');\n",
              "    li.append(span(file.name, {fontWeight: 'bold'}));\n",
              "    li.append(span(\n",
              "        `(${file.type || 'n/a'}) - ${file.size} bytes, ` +\n",
              "        `last modified: ${\n",
              "            file.lastModifiedDate ? file.lastModifiedDate.toLocaleDateString() :\n",
              "                                    'n/a'} - `));\n",
              "    const percent = span('0% done');\n",
              "    li.appendChild(percent);\n",
              "\n",
              "    outputElement.appendChild(li);\n",
              "\n",
              "    const fileDataPromise = new Promise((resolve) => {\n",
              "      const reader = new FileReader();\n",
              "      reader.onload = (e) => {\n",
              "        resolve(e.target.result);\n",
              "      };\n",
              "      reader.readAsArrayBuffer(file);\n",
              "    });\n",
              "    // Wait for the data to be ready.\n",
              "    let fileData = yield {\n",
              "      promise: fileDataPromise,\n",
              "      response: {\n",
              "        action: 'continue',\n",
              "      }\n",
              "    };\n",
              "\n",
              "    // Use a chunked sending to avoid message size limits. See b/62115660.\n",
              "    let position = 0;\n",
              "    do {\n",
              "      const length = Math.min(fileData.byteLength - position, MAX_PAYLOAD_SIZE);\n",
              "      const chunk = new Uint8Array(fileData, position, length);\n",
              "      position += length;\n",
              "\n",
              "      const base64 = btoa(String.fromCharCode.apply(null, chunk));\n",
              "      yield {\n",
              "        response: {\n",
              "          action: 'append',\n",
              "          file: file.name,\n",
              "          data: base64,\n",
              "        },\n",
              "      };\n",
              "\n",
              "      let percentDone = fileData.byteLength === 0 ?\n",
              "          100 :\n",
              "          Math.round((position / fileData.byteLength) * 100);\n",
              "      percent.textContent = `${percentDone}% done`;\n",
              "\n",
              "    } while (position < fileData.byteLength);\n",
              "  }\n",
              "\n",
              "  // All done.\n",
              "  yield {\n",
              "    response: {\n",
              "      action: 'complete',\n",
              "    }\n",
              "  };\n",
              "}\n",
              "\n",
              "scope.google = scope.google || {};\n",
              "scope.google.colab = scope.google.colab || {};\n",
              "scope.google.colab._files = {\n",
              "  _uploadFiles,\n",
              "  _uploadFilesContinue,\n",
              "};\n",
              "})(self);\n",
              "</script> "
            ]
          },
          "metadata": {}
        },
        {
          "output_type": "stream",
          "name": "stdout",
          "text": [
            "Saving MOVIES.csv to MOVIES.csv\n"
          ]
        }
      ]
    },
    {
      "cell_type": "code",
      "source": [
        "\n",
        "df = spark.read.csv('MOVIES.csv',header=True, inferSchema=True)"
      ],
      "metadata": {
        "id": "CdPwYb-HnVW_"
      },
      "execution_count": null,
      "outputs": []
    },
    {
      "cell_type": "code",
      "source": [
        "df.printSchema()"
      ],
      "metadata": {
        "colab": {
          "base_uri": "https://localhost:8080/"
        },
        "id": "xPNohqHknzLV",
        "outputId": "37127ea1-fc4d-4d0c-a7b3-5077a692d718"
      },
      "execution_count": null,
      "outputs": [
        {
          "output_type": "stream",
          "name": "stdout",
          "text": [
            "root\n",
            " |-- Poster_Link: string (nullable = true)\n",
            " |-- Series_Title: string (nullable = true)\n",
            " |-- Released_Year: string (nullable = true)\n",
            " |-- Certificate: string (nullable = true)\n",
            " |-- Runtime: string (nullable = true)\n",
            " |-- Genre: string (nullable = true)\n",
            " |-- IMDB_Rating: double (nullable = true)\n",
            " |-- Overview: string (nullable = true)\n",
            " |-- Meta_score: string (nullable = true)\n",
            " |-- Director: string (nullable = true)\n",
            " |-- Star1: string (nullable = true)\n",
            " |-- Star2: string (nullable = true)\n",
            " |-- Star3: string (nullable = true)\n",
            " |-- Star4: string (nullable = true)\n",
            " |-- No_of_Votes: string (nullable = true)\n",
            " |-- Gross: string (nullable = true)\n",
            "\n"
          ]
        }
      ]
    },
    {
      "cell_type": "code",
      "source": [
        "df.show()"
      ],
      "metadata": {
        "colab": {
          "base_uri": "https://localhost:8080/"
        },
        "id": "KsNYWDJUoN5b",
        "outputId": "3a99a6a5-991e-42f2-f5f3-81e0e44f4bc9"
      },
      "execution_count": null,
      "outputs": [
        {
          "output_type": "stream",
          "name": "stdout",
          "text": [
            "+--------------------+--------------------+-------------+-----------+-------+--------------------+-----------+--------------------+----------+--------------------+------------------+--------------------+------------------+--------------------+-----------+-----------+\n",
            "|         Poster_Link|        Series_Title|Released_Year|Certificate|Runtime|               Genre|IMDB_Rating|            Overview|Meta_score|            Director|             Star1|               Star2|             Star3|               Star4|No_of_Votes|      Gross|\n",
            "+--------------------+--------------------+-------------+-----------+-------+--------------------+-----------+--------------------+----------+--------------------+------------------+--------------------+------------------+--------------------+-----------+-----------+\n",
            "|https://m.media-a...|The Shawshank Red...|         1994|          A|142 min|               Drama|        9.3|Two imprisoned me...|        80|      Frank Darabont|       Tim Robbins|      Morgan Freeman|        Bob Gunton|      William Sadler|    2343110| 28,341,469|\n",
            "|https://m.media-a...|       The Godfather|         1972|          A|175 min|        Crime, Drama|        9.2|An organized crim...|       100|Francis Ford Coppola|     Marlon Brando|           Al Pacino|        James Caan|        Diane Keaton|    1620367|134,966,411|\n",
            "|https://m.media-a...|     The Dark Knight|         2008|         UA|152 min|Action, Crime, Drama|        9.0|When the menace k...|        84|   Christopher Nolan|    Christian Bale|        Heath Ledger|     Aaron Eckhart|       Michael Caine|    2303232|534,858,444|\n",
            "|https://m.media-a...|The Godfather: Pa...|         1974|          A|202 min|        Crime, Drama|        9.0|The early life an...|        90|Francis Ford Coppola|         Al Pacino|      Robert De Niro|     Robert Duvall|        Diane Keaton|    1129952| 57,300,000|\n",
            "|https://m.media-a...|        12 Angry Men|         1957|          U| 96 min|        Crime, Drama|        9.0|A jury holdout at...|        96|        Sidney Lumet|       Henry Fonda|         Lee J. Cobb|     Martin Balsam|        John Fiedler|     689845|  4,360,000|\n",
            "|https://m.media-a...|The Lord of the R...|         2003|          U|201 min|Action, Adventure...|        8.9|Gandalf and Arago...|        94|       Peter Jackson|       Elijah Wood|     Viggo Mortensen|      Ian McKellen|       Orlando Bloom|    1642758|377,845,905|\n",
            "|https://m.media-a...|        Pulp Fiction|         1994|          A|154 min|        Crime, Drama|        8.9|The lives of two ...|        94|   Quentin Tarantino|     John Travolta|         Uma Thurman| Samuel L. Jackson|        Bruce Willis|    1826188|107,928,762|\n",
            "|https://m.media-a...|    Schindler's List|         1993|          A|195 min|Biography, Drama,...|        8.9|In German-occupie...|        94|    Steven Spielberg|       Liam Neeson|       Ralph Fiennes|      Ben Kingsley|    Caroline Goodall|    1213505| 96,898,818|\n",
            "|https://m.media-a...|           Inception|         2010|         UA|148 min|Action, Adventure...|        8.8|A thief who steal...|        74|   Christopher Nolan| Leonardo DiCaprio|Joseph Gordon-Levitt|       Elliot Page|        Ken Watanabe|    2067042|292,576,195|\n",
            "|https://m.media-a...|          Fight Club|         1999|          A|139 min|               Drama|        8.8|An insomniac offi...|        66|       David Fincher|         Brad Pitt|       Edward Norton|         Meat Loaf|        Zach Grenier|    1854740| 37,030,102|\n",
            "|https://m.media-a...|The Lord of the R...|         2001|          U|178 min|Action, Adventure...|        8.8|A meek Hobbit fro...|        92|       Peter Jackson|       Elijah Wood|        Ian McKellen|     Orlando Bloom|           Sean Bean|    1661481|315,544,750|\n",
            "|https://m.media-a...|        Forrest Gump|         1994|         UA|142 min|      Drama, Romance|        8.8|The presidencies ...|        82|     Robert Zemeckis|         Tom Hanks|        Robin Wright|       Gary Sinise|         Sally Field|    1809221|330,252,182|\n",
            "|https://m.media-a...|Il buono, il brut...|         1966|          A|161 min|             Western|        8.8|A bounty hunting ...|        90|        Sergio Leone|    Clint Eastwood|         Eli Wallach|     Lee Van Cleef|        Aldo Giuffrè|     688390|  6,100,000|\n",
            "|https://m.media-a...|The Lord of the R...|         2002|         UA|179 min|Action, Adventure...|        8.7|While Frodo and S...|        87|       Peter Jackson|       Elijah Wood|        Ian McKellen|   Viggo Mortensen|       Orlando Bloom|    1485555|342,551,365|\n",
            "|https://m.media-a...|          The Matrix|         1999|          A|136 min|      Action, Sci-Fi|        8.7|When a beautiful ...|        73|      Lana Wachowski|   Lilly Wachowski|        Keanu Reeves|Laurence Fishburne|    Carrie-Anne Moss|    1676426|171,479,930|\n",
            "|https://m.media-a...|          Goodfellas|         1990|          A|146 min|Biography, Crime,...|        8.7|The story of Henr...|        90|     Martin Scorsese|    Robert De Niro|          Ray Liotta|         Joe Pesci|     Lorraine Bracco|    1020727| 46,836,394|\n",
            "|https://m.media-a...|Star Wars: Episod...|         1980|         UA|124 min|Action, Adventure...|        8.7|After the Rebels ...|        82|      Irvin Kershner|       Mark Hamill|       Harrison Ford|     Carrie Fisher|  Billy Dee Williams|    1159315|290,475,067|\n",
            "|https://m.media-a...|One Flew Over the...|         1975|          A|133 min|               Drama|        8.7|A criminal pleads...|        83|        Milos Forman|    Jack Nicholson|     Louise Fletcher|  Michael Berryman|        Peter Brocco|     918088|112,000,000|\n",
            "|https://m.media-a...|            Hamilton|         2020|      PG-13|160 min|Biography, Drama,...|        8.6|The real life of ...|        90|         Thomas Kail|Lin-Manuel Miranda|        Phillipa Soo|   Leslie Odom Jr.|Renée Elise Golds...|      55291|       null|\n",
            "|https://m.media-a...|        Gisaengchung|         2019|          A|132 min|Comedy, Drama, Th...|        8.6|Greed and class d...|        96|        Bong Joon Ho|      Kang-ho Song|        Lee Sun-kyun|     Cho Yeo-jeong|        Choi Woo-sik|     552778| 53,367,844|\n",
            "+--------------------+--------------------+-------------+-----------+-------+--------------------+-----------+--------------------+----------+--------------------+------------------+--------------------+------------------+--------------------+-----------+-----------+\n",
            "only showing top 20 rows\n",
            "\n"
          ]
        }
      ]
    },
    {
      "cell_type": "code",
      "source": [
        "\n",
        "# 1. Estatísticas Descritivas das Colunas Numéricas\n",
        "# Para colunas como 'IMDB_Rating' e 'Meta_score'\n",
        "df.select(\"IMDB_Rating\", \"Meta_score\", \"No_of_Votes\").describe().show()"
      ],
      "metadata": {
        "colab": {
          "base_uri": "https://localhost:8080/"
        },
        "id": "SJ7Ucblxo6bP",
        "outputId": "b3c838de-6800-4219-b2c5-7aba8c51a924"
      },
      "execution_count": null,
      "outputs": [
        {
          "output_type": "stream",
          "name": "stdout",
          "text": [
            "+-------+------------------+--------------------+-------------------+\n",
            "|summary|       IMDB_Rating|          Meta_score|        No_of_Votes|\n",
            "+-------+------------------+--------------------+-------------------+\n",
            "|  count|              1000|                 844|               1000|\n",
            "|   mean| 7.949300000000012|   78.03734939759036| 272714.91277890466|\n",
            "| stddev|0.2754912074920139|  12.363212589581746| 326898.37046629854|\n",
            "|    min|               7.6| Jr. finds himsel...|            1000639|\n",
            "|    max|               9.3|                  99|Wotan Wilke Möhring|\n",
            "+-------+------------------+--------------------+-------------------+\n",
            "\n"
          ]
        }
      ]
    },
    {
      "cell_type": "code",
      "source": [
        "top_rated_movies = df.orderBy(df.IMDB_Rating.desc()).select(\"Series_Title\", \"IMDB_Rating\", \"Director\").limit(10)\n",
        "print(\"Top 10 filmes com melhores avaliações:\")\n",
        "top_rated_movies.show()"
      ],
      "metadata": {
        "colab": {
          "base_uri": "https://localhost:8080/"
        },
        "id": "Li0rtQwlpBS3",
        "outputId": "67bb07ef-a5b7-45a1-87a7-77eaf6d978b2"
      },
      "execution_count": null,
      "outputs": [
        {
          "output_type": "stream",
          "name": "stdout",
          "text": [
            "Top 10 filmes com melhores avaliações:\n",
            "+--------------------+-----------+--------------------+\n",
            "|        Series_Title|IMDB_Rating|            Director|\n",
            "+--------------------+-----------+--------------------+\n",
            "|The Shawshank Red...|        9.3|      Frank Darabont|\n",
            "|       The Godfather|        9.2|Francis Ford Coppola|\n",
            "|     The Dark Knight|        9.0|   Christopher Nolan|\n",
            "|The Godfather: Pa...|        9.0|Francis Ford Coppola|\n",
            "|        12 Angry Men|        9.0|        Sidney Lumet|\n",
            "|The Lord of the R...|        8.9|       Peter Jackson|\n",
            "|        Pulp Fiction|        8.9|   Quentin Tarantino|\n",
            "|    Schindler's List|        8.9|    Steven Spielberg|\n",
            "|           Inception|        8.8|   Christopher Nolan|\n",
            "|          Fight Club|        8.8|       David Fincher|\n",
            "+--------------------+-----------+--------------------+\n",
            "\n"
          ]
        }
      ]
    },
    {
      "cell_type": "code",
      "source": [
        "# 3. Filmes mais populares com base no número de votos\n",
        "\n",
        "from pyspark.sql.functions import col\n",
        "\n",
        "# Corrigir a ordenação com base nos votos (No_of_Votes) após a conversão\n",
        "most_voted_movies = df_converted \\\n",
        "    .orderBy(col(\"No_of_Votes\").desc()) \\\n",
        "    .select(\"Series_Title\", \"No_of_Votes\", \"IMDB_Rating\") \\\n",
        "    .limit(10)\n",
        "\n",
        "# Exibir os 10 filmes com mais votos\n",
        "print(\"Top 10 filmes com mais votos:\")\n",
        "most_voted_movies.show()\n"
      ],
      "metadata": {
        "colab": {
          "base_uri": "https://localhost:8080/"
        },
        "id": "Xvn-7MbzpLve",
        "outputId": "bfe323d6-114d-4630-fcbe-e8998a93ef6f"
      },
      "execution_count": null,
      "outputs": [
        {
          "output_type": "stream",
          "name": "stdout",
          "text": [
            "Top 10 filmes com mais votos:\n",
            "+--------------------+-----------+-----------+\n",
            "|        Series_Title|No_of_Votes|IMDB_Rating|\n",
            "+--------------------+-----------+-----------+\n",
            "|The Shawshank Red...|    2343110|        9.3|\n",
            "|     The Dark Knight|    2303232|        9.0|\n",
            "|           Inception|    2067042|        8.8|\n",
            "|          Fight Club|    1854740|        8.8|\n",
            "|        Pulp Fiction|    1826188|        8.9|\n",
            "|        Forrest Gump|    1809221|        8.8|\n",
            "|          The Matrix|    1676426|        8.7|\n",
            "|The Lord of the R...|    1661481|        8.8|\n",
            "|The Lord of the R...|    1642758|        8.9|\n",
            "|       The Godfather|    1620367|        9.2|\n",
            "+--------------------+-----------+-----------+\n",
            "\n"
          ]
        }
      ]
    },
    {
      "cell_type": "code",
      "source": [
        "# 4. Contagem de Filmes por Gênero\n",
        "\n",
        "from pyspark.sql.functions import explode, split\n",
        "\n",
        "genre_df = df.withColumn(\"Genre\", explode(split(df.Genre, \", \")))\n",
        "genre_counts = genre_df.groupBy(\"Genre\").count().orderBy(\"count\", ascending=False)\n",
        "\n",
        "print(\"Contagem de filmes por gênero:\")\n",
        "genre_counts.show()"
      ],
      "metadata": {
        "colab": {
          "base_uri": "https://localhost:8080/"
        },
        "id": "1JPk6VpXpNQG",
        "outputId": "341365c9-52cc-40c0-d9b8-264c80ff443e"
      },
      "execution_count": null,
      "outputs": [
        {
          "output_type": "stream",
          "name": "stdout",
          "text": [
            "Contagem de filmes por gênero:\n",
            "+---------+-----+\n",
            "|    Genre|count|\n",
            "+---------+-----+\n",
            "|    Drama|  724|\n",
            "|   Comedy|  233|\n",
            "|    Crime|  209|\n",
            "|Adventure|  196|\n",
            "|   Action|  189|\n",
            "| Thriller|  137|\n",
            "|  Romance|  125|\n",
            "|Biography|  109|\n",
            "|  Mystery|   99|\n",
            "|Animation|   82|\n",
            "|   Sci-Fi|   67|\n",
            "|  Fantasy|   66|\n",
            "|   Family|   56|\n",
            "|  History|   56|\n",
            "|      War|   51|\n",
            "|    Music|   35|\n",
            "|   Horror|   32|\n",
            "|  Western|   20|\n",
            "|Film-Noir|   19|\n",
            "|    Sport|   19|\n",
            "+---------+-----+\n",
            "only showing top 20 rows\n",
            "\n"
          ]
        }
      ]
    },
    {
      "cell_type": "markdown",
      "source": [
        "--------------------------------------------------------------------------------"
      ],
      "metadata": {
        "id": "wtA9GS5RvXqB"
      }
    },
    {
      "cell_type": "code",
      "source": [
        "from pyspark.sql.functions import col, regexp_replace, explode, split\n",
        "\n",
        "# 1. Limpeza de caracteres e conversão de tipos de dados\n",
        "df_converted = df \\\n",
        "    .withColumn(\"No_of_Votes\", regexp_replace(\"No_of_Votes\", \",\", \"\").cast(\"integer\")) \\\n",
        "    .withColumn(\"Gross\", regexp_replace(\"Gross\", \"[$,]\", \"\").cast(\"double\")) \\\n",
        "    .withColumn(\"Released_Year\", col(\"Released_Year\").cast(\"integer\")) \\\n",
        "    .withColumn(\"Meta_score\", col(\"Meta_score\").cast(\"integer\"))\n"
      ],
      "metadata": {
        "id": "9IKMvpF6sk1O"
      },
      "execution_count": null,
      "outputs": []
    },
    {
      "cell_type": "code",
      "source": [
        "# 2. Remover linhas com valores nulos em colunas principais, após conversão\n",
        "df_converted = df_converted.na.drop(subset=[\"No_of_Votes\", \"Gross\", \"IMDB_Rating\"])"
      ],
      "metadata": {
        "id": "qDFyRiFMslr2"
      },
      "execution_count": null,
      "outputs": []
    },
    {
      "cell_type": "code",
      "source": [
        "# 3. Estatísticas Descritivas para 'No_of_Votes' e 'Gross'\n",
        "print(\"Estatísticas descritivas para 'No_of_Votes' e 'Gross':\")\n",
        "df_converted.select(\"No_of_Votes\", \"Gross\").describe().show()"
      ],
      "metadata": {
        "colab": {
          "base_uri": "https://localhost:8080/"
        },
        "id": "JIbWLsJXsnyd",
        "outputId": "0e2275e4-78c3-49cf-e2ba-0830ca93a844"
      },
      "execution_count": null,
      "outputs": [
        {
          "output_type": "stream",
          "name": "stdout",
          "text": [
            "Estatísticas descritivas para 'No_of_Votes' e 'Gross':\n",
            "+-------+------------------+--------------------+\n",
            "|summary|       No_of_Votes|               Gross|\n",
            "+-------+------------------+--------------------+\n",
            "|  count|               817|                 817|\n",
            "|   mean|314781.67441860464| 6.738834272949816E7|\n",
            "| stddev| 343472.9559634733|1.0921154318279986E8|\n",
            "|    min|             25088|              1305.0|\n",
            "|    max|           2343110|        9.36662225E8|\n",
            "+-------+------------------+--------------------+\n",
            "\n"
          ]
        }
      ]
    },
    {
      "cell_type": "code",
      "source": [
        "# 4. Top 10 Filmes com a Maior Bilheteria (Gross)\n",
        "top_grossing_movies = df_converted.orderBy(col(\"Gross\").desc()).select(\"Series_Title\", \"Gross\", \"IMDB_Rating\").limit(10)\n",
        "print(\"Top 10 filmes com a maior bilheteria:\")\n",
        "top_grossing_movies.show()"
      ],
      "metadata": {
        "colab": {
          "base_uri": "https://localhost:8080/"
        },
        "id": "2luWAOgcsqvl",
        "outputId": "fe1ef3bd-5fbf-45c3-898d-693f3dcd5ceb"
      },
      "execution_count": null,
      "outputs": [
        {
          "output_type": "stream",
          "name": "stdout",
          "text": [
            "Top 10 filmes com a maior bilheteria:\n",
            "+--------------------+------------+-----------+\n",
            "|        Series_Title|       Gross|IMDB_Rating|\n",
            "+--------------------+------------+-----------+\n",
            "|Star Wars: Episod...|9.36662225E8|        7.9|\n",
            "|   Avengers: Endgame|   8.58373E8|        8.4|\n",
            "|              Avatar|7.60507625E8|        7.8|\n",
            "|Avengers: Infinit...|6.78815482E8|        8.4|\n",
            "|             Titanic|6.59325379E8|        7.8|\n",
            "|        The Avengers|6.23279547E8|        8.0|\n",
            "|       Incredibles 2|6.08581744E8|        7.6|\n",
            "|     The Dark Knight|5.34858444E8|        9.0|\n",
            "|           Rogue One|5.32177324E8|        7.8|\n",
            "|The Dark Knight R...|4.48139099E8|        8.4|\n",
            "+--------------------+------------+-----------+\n",
            "\n"
          ]
        }
      ]
    },
    {
      "cell_type": "code",
      "source": [
        "# 5. Média de votos por gênero\n",
        "# Dividir a coluna de gêneros e contar a média de votos\n",
        "genre_df = df_converted.withColumn(\"Genre\", explode(split(col(\"Genre\"), \", \")))\n",
        "average_votes_per_genre = genre_df.groupBy(\"Genre\").avg(\"No_of_Votes\").orderBy(\"avg(No_of_Votes)\", ascending=False)"
      ],
      "metadata": {
        "id": "d9Y5FpIsswR9"
      },
      "execution_count": null,
      "outputs": []
    },
    {
      "cell_type": "code",
      "source": [
        "print(\"Média de votos por gênero:\")\n",
        "average_votes_per_genre.show()"
      ],
      "metadata": {
        "colab": {
          "base_uri": "https://localhost:8080/"
        },
        "id": "nokEC7AksxP9",
        "outputId": "71c6819f-8707-4323-d1f3-d74b4267d083"
      },
      "execution_count": null,
      "outputs": [
        {
          "output_type": "stream",
          "name": "stdout",
          "text": [
            "Média de votos por gênero:\n",
            "+---------+------------------+\n",
            "|    Genre|  avg(No_of_Votes)|\n",
            "+---------+------------------+\n",
            "|   Sci-Fi| 598005.6333333333|\n",
            "|Adventure|479657.58181818185|\n",
            "|   Action|473315.70666666667|\n",
            "|  Fantasy|          378631.2|\n",
            "| Thriller| 367590.5046728972|\n",
            "|  Mystery|334111.59523809527|\n",
            "|    Crime|329696.20238095237|\n",
            "|Animation|309274.56923076924|\n",
            "|   Horror| 286840.2272727273|\n",
            "|    Drama|276654.48900169204|\n",
            "|Biography| 273541.2916666667|\n",
            "|  Western|       272667.3125|\n",
            "|   Comedy|  261025.743315508|\n",
            "|      War|242400.83783783784|\n",
            "|   Family|240716.91666666666|\n",
            "|  History|235024.06976744186|\n",
            "|    Sport|230174.16666666666|\n",
            "|  Romance| 223521.7663551402|\n",
            "|    Music|       149388.9375|\n",
            "|Film-Noir| 93989.09090909091|\n",
            "+---------+------------------+\n",
            "only showing top 20 rows\n",
            "\n"
          ]
        }
      ]
    },
    {
      "cell_type": "code",
      "source": [
        "# 6. Ano com o maior número de votos totais\n",
        "yearly_votes = df_converted.groupBy(\"Released_Year\").sum(\"No_of_Votes\").orderBy(col(\"sum(No_of_Votes)\").desc())\n",
        "print(\"Ano com o maior número de votos totais:\")\n",
        "yearly_votes.show()"
      ],
      "metadata": {
        "colab": {
          "base_uri": "https://localhost:8080/"
        },
        "id": "_pm4K6Uss4ul",
        "outputId": "90abb8e8-24e2-4d6b-a671-ab2413e74fcc"
      },
      "execution_count": null,
      "outputs": [
        {
          "output_type": "stream",
          "name": "stdout",
          "text": [
            "Ano com o maior número de votos totais:\n",
            "+-------------+----------------+\n",
            "|Released_Year|sum(No_of_Votes)|\n",
            "+-------------+----------------+\n",
            "|         2014|        12816155|\n",
            "|         2009|        10116854|\n",
            "|         2001|         9985829|\n",
            "|         2010|         9892494|\n",
            "|         2012|         9433276|\n",
            "|         1999|         9128338|\n",
            "|         2004|         9107806|\n",
            "|         2008|         8878415|\n",
            "|         2006|         8767012|\n",
            "|         1994|         8615618|\n",
            "|         2013|         7614274|\n",
            "|         2015|         7232173|\n",
            "|         1995|         7174701|\n",
            "|         2003|         6834292|\n",
            "|         2007|         6753906|\n",
            "|         2000|         6677095|\n",
            "|         2016|         6334307|\n",
            "|         2002|         6304634|\n",
            "|         2011|         6109071|\n",
            "|         1997|         5635223|\n",
            "+-------------+----------------+\n",
            "only showing top 20 rows\n",
            "\n"
          ]
        }
      ]
    }
  ]
}